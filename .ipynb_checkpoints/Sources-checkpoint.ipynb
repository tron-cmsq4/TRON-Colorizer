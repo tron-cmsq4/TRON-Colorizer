{
 "cells": [
  {
   "cell_type": "markdown",
   "metadata": {},
   "source": [
    "# Tutorials"
   ]
  },
  {
   "cell_type": "markdown",
   "metadata": {},
   "source": [
    "https://www.pythonforbeginners.com/gui/how-to-use-pillow\n",
    "\n",
    "https://gab41.lab41.org/commit-and-push-to-github-from-jupyter-notebooks-579f5743a50b\n",
    "\n",
    "https://wsvincent.com/django-image-uploads/"
   ]
  },
  {
   "cell_type": "markdown",
   "metadata": {},
   "source": [
    "# Stack overflow"
   ]
  },
  {
   "cell_type": "markdown",
   "metadata": {},
   "source": [
    "https://stackoverflow.com/questions/15261851/100x100-image-with-random-pixel-colour\n",
    "\n",
    "https://stackoverflow.com/questions/10443295/combine-3-separate-numpy-arrays-to-an-rgb-image-in-python\n",
    "\n",
    "https://stackoverflow.com/questions/2659312/how-do-i-convert-a-numpy-array-to-and-display-an-image\n",
    "\n",
    "https://stackoverflow.com/questions/19306976/python-shuffling-with-a-parameter-to-get-the-same-result\n",
    "\n",
    "https://stackoverflow.com/questions/43728431/relative-imports-modulenotfounderror-no-module-named-x\n",
    "\n",
    "https://stackoverflow.com/questions/32239372/how-to-import-files-in-python-using-sys-path-append\n",
    "\n",
    "https://stackoverflow.com/questions/51520/how-to-get-an-absolute-file-path-in-python\n",
    "\n",
    "https://stackoverflow.com/questions/13400876/python-length-of-longest-sublist\n",
    "\n",
    "https://apple.stackexchange.com/questions/254380/why-am-i-getting-an-invalid-active-developer-path-when-attempting-to-use-git-a\n"
   ]
  },
  {
   "cell_type": "markdown",
   "metadata": {},
   "source": [
    "# Miscellaneous"
   ]
  },
  {
   "cell_type": "markdown",
   "metadata": {},
   "source": [
    "https://github.com/jaredly/django-colorfield/blob/master/README.md"
   ]
  }
 ],
 "metadata": {
  "kernelspec": {
   "display_name": "Python 3",
   "language": "python",
   "name": "python3"
  },
  "language_info": {
   "codemirror_mode": {
    "name": "ipython",
    "version": 3
   },
   "file_extension": ".py",
   "mimetype": "text/x-python",
   "name": "python",
   "nbconvert_exporter": "python",
   "pygments_lexer": "ipython3",
   "version": "3.6.5"
  }
 },
 "nbformat": 4,
 "nbformat_minor": 2
}
