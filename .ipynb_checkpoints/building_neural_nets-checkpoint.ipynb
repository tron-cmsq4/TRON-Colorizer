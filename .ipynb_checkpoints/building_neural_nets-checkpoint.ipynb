{
 "cells": [
  {
   "cell_type": "code",
   "execution_count": 69,
   "metadata": {},
   "outputs": [],
   "source": [
    "from sklearn.neural_network import MLPClassifier\n",
    "import numpy as np"
   ]
  },
  {
   "cell_type": "markdown",
   "metadata": {},
   "source": [
    "# define discriminator"
   ]
  },
  {
   "cell_type": "code",
   "execution_count": 60,
   "metadata": {},
   "outputs": [],
   "source": [
    "def train_discriminator(discriminator, old_data, old_labels, new_data, new_labels):\n",
    "    '''\n",
    "    trains existing discriminator model and uses it to predict new data labels, then compares its predictions\n",
    "    with the real labels and finds what percent it got correctly.\n",
    "    \n",
    "    args: existing discriminator model (with set hyperparameters), list of old data and true/false labels to train \n",
    "    on, list of new data to make predictions with, list of true/false labels for new data to test accuracy of \n",
    "    predictions\n",
    "    \n",
    "    returns: list of predicted true/false labels for new data, percentage of correct predictions  \n",
    "    '''\n",
    "    #fit to old data, predict labels for new data\n",
    "    discriminator.fit(old_data, old_labels)\n",
    "    prediction = discriminator.predict(new_data)\n",
    "    \n",
    "    #find difference between predictions and actual labels, add up to find amount that was wrong\n",
    "    percent_correct = (np.sum(np.absolute(new_labels-prediction)))\n",
    "    percent_correct = (percent_correct)/len(new_labels)\n",
    "    percent_correct = percent_correct*100\n",
    "    \n",
    "    return(prediction, percent_correct)"
   ]
  },
  {
   "cell_type": "markdown",
   "metadata": {},
   "source": [
    "## testing one image"
   ]
  },
  {
   "cell_type": "code",
   "execution_count": 61,
   "metadata": {
    "scrolled": true
   },
   "outputs": [],
   "source": [
    "from PIL import Image\n",
    "\n",
    "test_images = []\n",
    "test_labels = []\n",
    "\n",
    "#build \"dataset\" and add 4 real images\n",
    "for i in range(4):\n",
    "    try:\n",
    "        test_images.append(Image.open(\"testing discriminator/test_\" + str(i+2) + \".jpg\"))\n",
    "        test_images[i] = np.array(test_images[i]).astype('int')\n",
    "        test_labels.append(1)\n",
    "\n",
    "    except:\n",
    "        print (\"Unable to load image\")"
   ]
  },
  {
   "cell_type": "code",
   "execution_count": 62,
   "metadata": {},
   "outputs": [],
   "source": [
    "def generate_random(x_size, y_size):\n",
    "    '''\n",
    "    generates random image (so rgb static)\n",
    "    \n",
    "    args: desired size of image in format (x, y)\n",
    "    returns: array of random rgb values of specified size\n",
    "    '''\n",
    "    rgb_array = np.zeros((y_size, x_size, 3))\n",
    "    \n",
    "    #fill array with 3 sets of random values, one for each color channel\n",
    "    rgb_array[:,:,0] = np.random.random((y_size, x_size))*255\n",
    "    rgb_array[:,:,1] = np.random.random((y_size, x_size))*255\n",
    "    rgb_array[:,:,2] = np.random.random((y_size, x_size))*255\n",
    "    \n",
    "    return rgb_array.astype('int')"
   ]
  },
  {
   "cell_type": "code",
   "execution_count": 63,
   "metadata": {
    "scrolled": true
   },
   "outputs": [],
   "source": [
    "#specify sizes for randomly generated images\n",
    "x_sizes = [304, 526, 700, 451]\n",
    "y_sizes = [237, 526, 800, 400]\n",
    "\n",
    "#generate random images and add to \"dataset\"\n",
    "for i in range(4):\n",
    "    test_images.append(generate_random(x_sizes[i], y_sizes[i]))\n",
    "    test_images[4+i]\n",
    "    test_labels.append(0)"
   ]
  },
  {
   "cell_type": "code",
   "execution_count": 64,
   "metadata": {},
   "outputs": [],
   "source": [
    "#cut off all images to same size with no subcategories; will be more elegant in later iterations\n",
    "cutoff = min([test_images[0].size, test_images[1].size, test_images[2].size, test_images[3].size, \n",
    "              test_images[4].size, test_images[5].size, test_images[6].size, test_images[7].size])\n",
    "\n",
    "for i, array in enumerate(test_images): \n",
    "    test_images[i] = array.flatten()\n",
    "    test_images[i] = test_images[i][:cutoff]\n",
    "\n",
    "test_images = np.array(test_images)"
   ]
  },
  {
   "cell_type": "code",
   "execution_count": 65,
   "metadata": {},
   "outputs": [],
   "source": [
    "#image to predict label of\n",
    "new_image = Image.open(\"testing discriminator/test_1.jpg\")\n",
    "new_image = np.array(new_image).astype('int')\n",
    "new_image = new_image.flatten()\n",
    "new_image = new_image[:cutoff]\n",
    "new_image = new_image.reshape((1, -1))"
   ]
  },
  {
   "cell_type": "code",
   "execution_count": 66,
   "metadata": {},
   "outputs": [],
   "source": [
    "#build discriminator, train discriminator\n",
    "test_discrim = MLPClassifier(solver='lbfgs', alpha=1e-5,\n",
    "                             hidden_layer_sizes=(5, 2), random_state=1)\n",
    "\n",
    "prediction, percent_correct = train_discriminator(test_discrim, test_images, test_labels, new_image, [1])"
   ]
  },
  {
   "cell_type": "code",
   "execution_count": 67,
   "metadata": {
    "scrolled": true
   },
   "outputs": [
    {
     "name": "stdout",
     "output_type": "stream",
     "text": [
      "Your image was predicted to be real. The discriminator got it right!\n"
     ]
    }
   ],
   "source": [
    "real = 'real'\n",
    "correct = 'right'\n",
    "if prediction == 1:\n",
    "    real = 'fake'\n",
    "if percent_correct != 100.0:\n",
    "    correct='wrong'\n",
    "\n",
    "print('Your image was predicted to be '+real+'. The discriminator got it '+correct+'!')"
   ]
  },
  {
   "cell_type": "markdown",
   "metadata": {},
   "source": [
    "## testing on a larger scale"
   ]
  },
  {
   "cell_type": "code",
   "execution_count": 72,
   "metadata": {},
   "outputs": [],
   "source": [
    "test_discrim_2 = MLPClassifier(solver='lbfgs', alpha=1e-5,\n",
    "                                hidden_layer_sizes=(100, 50), random_state=1)"
   ]
  },
  {
   "cell_type": "code",
   "execution_count": null,
   "metadata": {},
   "outputs": [],
   "source": []
  }
 ],
 "metadata": {
  "kernelspec": {
   "display_name": "Python 3",
   "language": "python",
   "name": "python3"
  },
  "language_info": {
   "codemirror_mode": {
    "name": "ipython",
    "version": 3
   },
   "file_extension": ".py",
   "mimetype": "text/x-python",
   "name": "python",
   "nbconvert_exporter": "python",
   "pygments_lexer": "ipython3",
   "version": "3.6.5"
  }
 },
 "nbformat": 4,
 "nbformat_minor": 2
}
