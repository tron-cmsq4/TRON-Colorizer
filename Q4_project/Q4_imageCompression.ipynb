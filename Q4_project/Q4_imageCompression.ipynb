{
 "cells": [
  {
   "cell_type": "code",
   "execution_count": 30,
   "metadata": {},
   "outputs": [],
   "source": [
    "## compress png images\n",
    "\n",
    "import cv2\n",
    "import os\n",
    "import pandas as pd\n",
    "\n",
    "## try just making a function to compress one image -- works\n",
    "def compressPNG(img, png_compression, path):\n",
    "    cv2.imwrite(path + \"/compress_img1.png\", img, [int(cv2.IMWRITE_PNG_COMPRESSION), png_compression])\n",
    "\n",
    "## function that loops through a folder of images -- saves images into output folder\n",
    "def compressPNGsCV(png_compression, path_str):\n",
    "    #input_dir = os.path.dirname(path_str)\n",
    "    if not os.path.exists(\"compressed_pngs\"):\n",
    "        new_dir = os.mkdir(\"compressed_pngs\")\n",
    "    if os.path.exists(\"compressed_pngs\"):\n",
    "        new_dir = \"compressed_pngs\"\n",
    "    i = 1\n",
    "    for filename in os.listdir(path_str):\n",
    "        if filename.endswith(\".png\"):\n",
    "            img = cv2.imread(filename) ## maybe to fix our problem\n",
    "            cv2.imwrite(new_dir + \"/compress_img\" + str(i) + \".png\", img, [cv2.IMWRITE_PNG_COMPRESSION, png_compression])\n",
    "            i+=1\n"
   ]
  },
  {
   "cell_type": "code",
   "execution_count": 20,
   "metadata": {},
   "outputs": [],
   "source": [
    "#path = \"/Users/Olivia/Desktop/compmodsim/TRON-Colorizer/George_W_Bush\"\n",
    "path = \"/Users/Olivia/Desktop/compmodsim/Q4_project/png_imgs\"\n",
    "os.chdir(path)\n",
    "\n",
    "sample_img = cv2.imread(\"octocat.png\")\n",
    "compressed_sample_img = compressPNG(sample_img, 9, path)\n",
    "\n",
    "#compressPNGs(9, \"png_imgs\")"
   ]
  },
  {
   "cell_type": "code",
   "execution_count": 4,
   "metadata": {},
   "outputs": [],
   "source": [
    "compressed = cv2.imread(\"compress_img1.png\")"
   ]
  },
  {
   "cell_type": "code",
   "execution_count": 5,
   "metadata": {},
   "outputs": [
    {
     "data": {
      "text/plain": [
       "<matplotlib.image.AxesImage at 0x1183512e8>"
      ]
     },
     "execution_count": 5,
     "metadata": {},
     "output_type": "execute_result"
    },
    {
     "data": {
      "image/png": "[encoded data removed]",
      "text/plain": [
       "<Figure size 432x288 with 1 Axes>"
      ]
     },
     "metadata": {},
     "output_type": "display_data"
    }
   ],
   "source": [
    "from matplotlib import pyplot as plt\n",
    "\n",
    "\n",
    "plt.imshow(compressed)"
   ]
  },
  {
   "cell_type": "code",
   "execution_count": 10,
   "metadata": {},
   "outputs": [],
   "source": [
    "## version that returns an array of compressed images -- ignore this\n",
    "\n",
    "#def compressPNGs(png_compression, path_str):\n",
    "#    new_df = pd.DataFrame()\n",
    "#    for filename in os.listdir(path_str):\n",
    "#        if filename.endswith(\".png\"):\n",
    "#            new_df = new_df.append()\n",
    "#    return new_df\n"
   ]
  },
  {
   "cell_type": "code",
   "execution_count": 32,
   "metadata": {
    "scrolled": true
   },
   "outputs": [],
   "source": [
    "compressPNGsCV(9, path)"
   ]
  },
  {
   "cell_type": "code",
   "execution_count": null,
   "metadata": {},
   "outputs": [],
   "source": [
    "## Reed, this is what you should work on, use pillow to resize images -- this is not finished\n",
    "\n",
    "def resizePNGs(x, y, path_str):\n",
    "    if not os.path.exists(\"compressed_pngs\"):\n",
    "        new_dir = os.mkdir(\"compressed_pngs\")\n",
    "    if os.path.exists(\"compressed_pngs\"):\n",
    "        new_dir = \"compressed_pngs\"\n",
    "    i = 1\n",
    "    for filename in os.listdir(path_str):\n",
    "        if filename.endswith(\".png\"):\n",
    "            img = Image.open(filename) ## maybe to fix our problem\n",
    "            Image.resize(new_dir + \"/compress_img\" + str(i) + \".png\", img, x, y) ## this is wrong but this is where you need to resize images\n",
    "            i+=1"
   ]
  }
 ],
 "metadata": {
  "kernelspec": {
   "display_name": "Python 3",
   "language": "python",
   "name": "python3"
  },
  "language_info": {
   "codemirror_mode": {
    "name": "ipython",
    "version": 3
   },
   "file_extension": ".py",
   "mimetype": "text/x-python",
   "name": "python",
   "nbconvert_exporter": "python",
   "pygments_lexer": "ipython3",
   "version": "3.6.5"
  }
 },
 "nbformat": 4,
 "nbformat_minor": 2
}
