{
 "cells": [
  {
   "cell_type": "code",
   "execution_count": 5,
   "metadata": {},
   "outputs": [],
   "source": [
    "import numpy as np\n",
    "import random\n",
    "\n",
    "#Original image array is referred to as img_orig.\n",
    "\n",
    "#Converts image from RGB to greyscale using luminosity method.\n",
    "\n",
    "def greyscale (img_orig):\n",
    "    img_gs = img_orig[:, :, 0] * 0.21 + img_orig[:, :, 1] * 0.72 + img_orig[:, :, 2] * 0.07\n",
    "    return img_gs\n",
    "\n",
    "#Selects random quantity of pixels in random locations to append to color index.\n",
    "\n",
    "def pixel_sampler (img_orig):\n",
    "    width = img_orig.size[0]\n",
    "    length = img_orig.size[1]\n",
    "    for i in range (random.randint(0, width * length)):\n",
    "        x, y = random.randint(0, width), random.randint(0, length)\n",
    "        RGB_raw = np.array[[img_orig[x, y, :], x, y]]\n",
    "        if i > 0:\n",
    "            RGB_index = np.append(RGB_raw, RGB_index, axis = 1)\n",
    "        else:\n",
    "            RGB_index = RGB_raw\n",
    "    return RGB_index"
   ]
  },
  {
   "cell_type": "code",
   "execution_count": null,
   "metadata": {},
   "outputs": [],
   "source": []
  }
 ],
 "metadata": {
  "kernelspec": {
   "display_name": "Python 3",
   "language": "python",
   "name": "python3"
  },
  "language_info": {
   "codemirror_mode": {
    "name": "ipython",
    "version": 3
   },
   "file_extension": ".py",
   "mimetype": "text/x-python",
   "name": "python",
   "nbconvert_exporter": "python",
   "pygments_lexer": "ipython3",
   "version": "3.6.5"
  }
 },
 "nbformat": 4,
 "nbformat_minor": 2
}
