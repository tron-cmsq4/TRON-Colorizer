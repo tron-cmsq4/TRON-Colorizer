{
 "cells": [
  {
   "cell_type": "code",
   "execution_count": null,
   "metadata": {},
   "outputs": [],
   "source": [
    "from PIL import Image\n",
    "\n",
    "#Assumes image has been imported as an array.\n",
    "\n",
    "image = Image.open(\"image.jpg\")\n",
    "\n",
    "def process_image(image):\n",
    "    '''\n",
    "    Image compression and greyscale pipeline.\n",
    "    \n",
    "    args: image as a three-dimensional numpy array\n",
    "    returns: image as a compressed and grayscale one-dimensional array\n",
    "    '''\n",
    "    return(grayscale(compressPNG(image))"
   ]
  },
  {
   "cell_type": "code",
   "execution_count": null,
   "metadata": {},
   "outputs": [],
   "source": [
    "#Pseudocode\n",
    "\n",
    "#Deploy trained generator and discriminator.\n",
    "\n",
    "#Generator, with randomized weights, produces a batch of images. Accuracy is evaluated by discriminator. (Random initialization.)\n",
    "#Weights are scrambled within a range parameter R. One hundred children are generated through randomization within this range and are evaluated by the discriminator by the above metric. The fittest is selected.\n",
    "#Repeat Step 2.\n",
    "#Halt program once weights converge, or accuracy is maximized."
   ]
  },
  {
   "cell_type": "code",
   "execution_count": 14,
   "metadata": {},
   "outputs": [
    {
     "name": "stdout",
     "output_type": "stream",
     "text": [
      "[[0.06466491 0.02478892]\n",
      " [0.26549815 0.0335907 ]\n",
      " [0.15662036 0.65157284]\n",
      " [0.85490806 0.56779563]\n",
      " [0.05168506 0.29541369]]\n",
      "[[0.06465112 0.02477267]\n",
      " [0.26529003 0.03361355]\n",
      " [0.15673023 0.65194056]\n",
      " [0.8551807  0.56760104]\n",
      " [0.05168711 0.29548409]]\n"
     ]
    }
   ],
   "source": [
    "import numpy as np\n",
    "from numpy.random import rand as rd\n",
    "\n",
    "# Key\n",
    "# R = randomization parameter\n",
    "# e = epochs; or, the reciprocal of R. In other words, given a random starting point and fixed step size, or randomization metric, any weight should be able to march from 0 to 1 or vice versa. This might be tuned, however, to halt epochs when the weights converve.\n",
    "# coeffs = neural net weight array. Suggested notation: mlp.coefs_[x]\n",
    "# pred = assumes prediction is represented as one column of probilities spanning from 0 to 1. Values closer to 1 indicate certainty that a generated image is \"real,\" and thus are desirable. Values below 0.5 are penalized.\n",
    "\n",
    "\n",
    "R = 0.001\n",
    "e = 1/R\n",
    "\n",
    "def randomize_weights(coeffs, R):\n",
    "    '''\n",
    "    Randomizes neural network weights within metric R.\n",
    "    \n",
    "    args: neural network weight array (as numpy array), randomization metric R as a fraction (example: 0.001).\n",
    "    returns: new neural network weight array of same dimensions with randomized values.\n",
    "    '''\n",
    "    rand_arr = R * (2 * rd(coeffs.shape[0], coeffs.shape[1]) - 1)\n",
    "    return np.multiply(rand_arr, coeffs) + coeffs\n",
    "\n",
    "def evaluate_cost(test):\n",
    "    '''\n",
    "    Evaluates the \"effectiveness\" of a generator as an effective faker.\n",
    "    \n",
    "    args: one-dimensional array of neural network percentage certainty that a generated image is \"real.\" One is 100% certainty in correctness, zero is 0%.\n",
    "    returns: either a positive or negative non-integer value reflecting accuracy.\n",
    "    '''\n",
    "    return np.sum((pred - 0.5), axis = None)\n",
    "\n",
    "#coeffs_test = rd(5, 2)\n",
    "#print(coeffs_test)\n",
    "\n",
    "#coeffs_random = randomize_weights(coeffs)\n",
    "#print(coeffs_random)"
   ]
  },
  {
   "cell_type": "code",
   "execution_count": null,
   "metadata": {},
   "outputs": [],
   "source": []
  }
 ],
 "metadata": {
  "kernelspec": {
   "display_name": "Python 3",
   "language": "python",
   "name": "python3"
  },
  "language_info": {
   "codemirror_mode": {
    "name": "ipython",
    "version": 3
   },
   "file_extension": ".py",
   "mimetype": "text/x-python",
   "name": "python",
   "nbconvert_exporter": "python",
   "pygments_lexer": "ipython3",
   "version": "3.6.5"
  }
 },
 "nbformat": 4,
 "nbformat_minor": 2
}
