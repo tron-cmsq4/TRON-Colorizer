{
 "cells": [
  {
   "cell_type": "code",
   "execution_count": 129,
   "metadata": {},
   "outputs": [],
   "source": [
    "import numpy as np\n",
    "import pandas as pd\n",
    "import matplotlib.pyplot as plt\n",
    "from matplotlib.colors import ListedColormap\n",
    "from sklearn.model_selection import train_test_split\n",
    "from sklearn.preprocessing import StandardScaler\n",
    "from sklearn.datasets import make_moons, make_circles, make_classification\n",
    "from sklearn.neural_network import MLPClassifier\n",
    "from sklearn.neighbors import KNeighborsClassifier\n",
    "from sklearn.svm import SVC\n",
    "from sklearn.gaussian_process import GaussianProcessClassifier\n",
    "from sklearn.gaussian_process.kernels import RBF\n",
    "from sklearn.tree import DecisionTreeClassifier\n",
    "from sklearn.ensemble import RandomForestClassifier, AdaBoostClassifier\n",
    "from sklearn.naive_bayes import GaussianNB\n",
    "from sklearn.discriminant_analysis import QuadraticDiscriminantAnalysis\n",
    "\n",
    "\n",
    "def evaluate_cost(pred):\n",
    "    '''\n",
    "    Evaluates the \"effectiveness\" of a generator as an effective faker.\n",
    "    \n",
    "    args: one-dimensional array of neural network percentage certainty that a generated image is \"real.\" One is 100% certainty in correctness, zero is 0%.\n",
    "    returns: either a positive or negative non-integer value reflecting accuracy.\n",
    "    '''\n",
    "    return np.sum((pred - 0.5), axis = None)\n",
    "\n",
    "\n",
    "## we get the following from the discriminator\n",
    "##probabilities = clf.predict_log_proba(image_weights) ## image_weights is not a real thing, replace later\n",
    "\n",
    "def chooseBest(probabilities):\n",
    "    '''\n",
    "    Accepts an array of probabilities (chance that image is real) for neural nets and selects the best child weights.\n",
    "    Returns top 3 options if no significant difference (< 0.1) between them.\n",
    "\n",
    "    args:  an array, each row contains the percentage certainties for one neural net, each column contains the percent certainties for one image\n",
    "    returns: indexes of reduced number of best children in array form\n",
    "\n",
    "    '''\n",
    "    summed_preds = [] ## one dimensional array of predictions for each neural net\n",
    "    \n",
    "    #for row in probabilities: ## probabilities is a matrix\n",
    "    #    summed_preds.append(evaluate_cost(row))\n",
    "    \n",
    "    for row in range(len(probabilities[:,0])): ## probabilities is a matrix\n",
    "        summed_preds.append(evaluate_cost(probabilities[row,:]))\n",
    "    \n",
    "    summed_preds = pd.DataFrame(np.array(summed_preds)) ## convert np array to pandas dataframe to have an index\n",
    "    summed_preds.columns =  [\"Probabilities\"]   ## add a header to our one column for the sort function\n",
    "    \n",
    "    summed_preds.sort_values(by=\"Probabilities\", axis=0, ascending = False, inplace = True)\n",
    "    ten_best = summed_preds.head(10) ## subset  our df, taking first 10 rows and all columns\n",
    "    ten_best = ten_best.reset_index()\n",
    "    ten_best.columns = ['index1','Probabilities']\n",
    "    \n",
    "    print(ten_best)\n",
    "    best = []\n",
    "    if ten_best.iloc[0, 1] - ten_best.iloc[1, 1] >= 0.1: ## because ten_best is already in descending order\n",
    "        best.append(ten_best.index1[0])\n",
    "    else:\n",
    "        for i in range(3):\n",
    "            best.append(ten_best.index1[i]) ## we can change this to return more or less than three\n",
    "    ## find neural nets associated with the index(es) in best ??\n",
    "\n",
    "    return best\n",
    "    "
   ]
  },
  {
   "cell_type": "code",
   "execution_count": 130,
   "metadata": {},
   "outputs": [
    {
     "name": "stdout",
     "output_type": "stream",
     "text": [
      "   index1  Probabilities\n",
      "0       1            1.1\n",
      "1       2           -0.1\n",
      "2       3           -0.4\n",
      "3       0           -0.9\n",
      "[1]\n"
     ]
    }
   ],
   "source": [
    "fake_arr = np.array([[0.5, 0.1, 0.2, 0.3],\n",
    "                  [0.7, 0.9, 0.7, 0.8],\n",
    "                  [0.6, 0.4, 0.5, 0.4],\n",
    "                  [0.1, 0.2, 0.6, 0.7]])\n",
    "\n",
    "\n",
    "print(chooseBest(fake_arr))"
   ]
  }
 ],
 "metadata": {
  "kernelspec": {
   "display_name": "Python 3",
   "language": "python",
   "name": "python3"
  },
  "language_info": {
   "codemirror_mode": {
    "name": "ipython",
    "version": 3
   },
   "file_extension": ".py",
   "mimetype": "text/x-python",
   "name": "python",
   "nbconvert_exporter": "python",
   "pygments_lexer": "ipython3",
   "version": "3.6.5"
  }
 },
 "nbformat": 4,
 "nbformat_minor": 2
}
